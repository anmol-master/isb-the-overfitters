{
  "cells": [
    {
      "cell_type": "code",
      "execution_count": 1,
      "metadata": {
        "colab": {
          "base_uri": "https://localhost:8080/"
        },
        "id": "2221-Ld2Y_c8",
        "outputId": "ea645247-f041-47cd-e4f5-d94019f9cf66",
        "collapsed": true
      },
      "outputs": [
        {
          "output_type": "stream",
          "name": "stdout",
          "text": [
            "Collecting fastapi\n",
            "  Downloading fastapi-0.115.6-py3-none-any.whl.metadata (27 kB)\n",
            "Collecting uvicorn\n",
            "  Downloading uvicorn-0.34.0-py3-none-any.whl.metadata (6.5 kB)\n",
            "Requirement already satisfied: wandb in /usr/local/lib/python3.10/dist-packages (0.18.7)\n",
            "Collecting pyngrok\n",
            "  Downloading pyngrok-7.2.2-py3-none-any.whl.metadata (8.4 kB)\n",
            "Collecting starlette<0.42.0,>=0.40.0 (from fastapi)\n",
            "  Downloading starlette-0.41.3-py3-none-any.whl.metadata (6.0 kB)\n",
            "Requirement already satisfied: pydantic!=1.8,!=1.8.1,!=2.0.0,!=2.0.1,!=2.1.0,<3.0.0,>=1.7.4 in /usr/local/lib/python3.10/dist-packages (from fastapi) (2.10.3)\n",
            "Requirement already satisfied: typing-extensions>=4.8.0 in /usr/local/lib/python3.10/dist-packages (from fastapi) (4.12.2)\n",
            "Requirement already satisfied: click>=7.0 in /usr/local/lib/python3.10/dist-packages (from uvicorn) (8.1.7)\n",
            "Requirement already satisfied: h11>=0.8 in /usr/local/lib/python3.10/dist-packages (from uvicorn) (0.14.0)\n",
            "Requirement already satisfied: docker-pycreds>=0.4.0 in /usr/local/lib/python3.10/dist-packages (from wandb) (0.4.0)\n",
            "Requirement already satisfied: gitpython!=3.1.29,>=1.0.0 in /usr/local/lib/python3.10/dist-packages (from wandb) (3.1.43)\n",
            "Requirement already satisfied: platformdirs in /usr/local/lib/python3.10/dist-packages (from wandb) (4.3.6)\n",
            "Requirement already satisfied: protobuf!=4.21.0,!=5.28.0,<6,>=3.19.0 in /usr/local/lib/python3.10/dist-packages (from wandb) (4.25.5)\n",
            "Requirement already satisfied: psutil>=5.0.0 in /usr/local/lib/python3.10/dist-packages (from wandb) (5.9.5)\n",
            "Requirement already satisfied: pyyaml in /usr/local/lib/python3.10/dist-packages (from wandb) (6.0.2)\n",
            "Requirement already satisfied: requests<3,>=2.0.0 in /usr/local/lib/python3.10/dist-packages (from wandb) (2.32.3)\n",
            "Requirement already satisfied: sentry-sdk>=2.0.0 in /usr/local/lib/python3.10/dist-packages (from wandb) (2.19.2)\n",
            "Requirement already satisfied: setproctitle in /usr/local/lib/python3.10/dist-packages (from wandb) (1.3.4)\n",
            "Requirement already satisfied: setuptools in /usr/local/lib/python3.10/dist-packages (from wandb) (75.1.0)\n",
            "Requirement already satisfied: six>=1.4.0 in /usr/local/lib/python3.10/dist-packages (from docker-pycreds>=0.4.0->wandb) (1.17.0)\n",
            "Requirement already satisfied: gitdb<5,>=4.0.1 in /usr/local/lib/python3.10/dist-packages (from gitpython!=3.1.29,>=1.0.0->wandb) (4.0.11)\n",
            "Requirement already satisfied: annotated-types>=0.6.0 in /usr/local/lib/python3.10/dist-packages (from pydantic!=1.8,!=1.8.1,!=2.0.0,!=2.0.1,!=2.1.0,<3.0.0,>=1.7.4->fastapi) (0.7.0)\n",
            "Requirement already satisfied: pydantic-core==2.27.1 in /usr/local/lib/python3.10/dist-packages (from pydantic!=1.8,!=1.8.1,!=2.0.0,!=2.0.1,!=2.1.0,<3.0.0,>=1.7.4->fastapi) (2.27.1)\n",
            "Requirement already satisfied: charset-normalizer<4,>=2 in /usr/local/lib/python3.10/dist-packages (from requests<3,>=2.0.0->wandb) (3.4.0)\n",
            "Requirement already satisfied: idna<4,>=2.5 in /usr/local/lib/python3.10/dist-packages (from requests<3,>=2.0.0->wandb) (3.10)\n",
            "Requirement already satisfied: urllib3<3,>=1.21.1 in /usr/local/lib/python3.10/dist-packages (from requests<3,>=2.0.0->wandb) (2.2.3)\n",
            "Requirement already satisfied: certifi>=2017.4.17 in /usr/local/lib/python3.10/dist-packages (from requests<3,>=2.0.0->wandb) (2024.8.30)\n",
            "Requirement already satisfied: anyio<5,>=3.4.0 in /usr/local/lib/python3.10/dist-packages (from starlette<0.42.0,>=0.40.0->fastapi) (3.7.1)\n",
            "Requirement already satisfied: sniffio>=1.1 in /usr/local/lib/python3.10/dist-packages (from anyio<5,>=3.4.0->starlette<0.42.0,>=0.40.0->fastapi) (1.3.1)\n",
            "Requirement already satisfied: exceptiongroup in /usr/local/lib/python3.10/dist-packages (from anyio<5,>=3.4.0->starlette<0.42.0,>=0.40.0->fastapi) (1.2.2)\n",
            "Requirement already satisfied: smmap<6,>=3.0.1 in /usr/local/lib/python3.10/dist-packages (from gitdb<5,>=4.0.1->gitpython!=3.1.29,>=1.0.0->wandb) (5.0.1)\n",
            "Downloading fastapi-0.115.6-py3-none-any.whl (94 kB)\n",
            "\u001b[2K   \u001b[90m━━━━━━━━━━━━━━━━━━━━━━━━━━━━━━━━━━━━━━━━\u001b[0m \u001b[32m94.8/94.8 kB\u001b[0m \u001b[31m4.9 MB/s\u001b[0m eta \u001b[36m0:00:00\u001b[0m\n",
            "\u001b[?25hDownloading uvicorn-0.34.0-py3-none-any.whl (62 kB)\n",
            "\u001b[2K   \u001b[90m━━━━━━━━━━━━━━━━━━━━━━━━━━━━━━━━━━━━━━━━\u001b[0m \u001b[32m62.3/62.3 kB\u001b[0m \u001b[31m5.4 MB/s\u001b[0m eta \u001b[36m0:00:00\u001b[0m\n",
            "\u001b[?25hDownloading pyngrok-7.2.2-py3-none-any.whl (22 kB)\n",
            "Downloading starlette-0.41.3-py3-none-any.whl (73 kB)\n",
            "\u001b[2K   \u001b[90m━━━━━━━━━━━━━━━━━━━━━━━━━━━━━━━━━━━━━━━━\u001b[0m \u001b[32m73.2/73.2 kB\u001b[0m \u001b[31m5.2 MB/s\u001b[0m eta \u001b[36m0:00:00\u001b[0m\n",
            "\u001b[?25hInstalling collected packages: uvicorn, pyngrok, starlette, fastapi\n",
            "Successfully installed fastapi-0.115.6 pyngrok-7.2.2 starlette-0.41.3 uvicorn-0.34.0\n"
          ]
        }
      ],
      "source": [
        "!pip install fastapi uvicorn wandb pyngrok"
      ]
    },
    {
      "cell_type": "code",
      "execution_count": 2,
      "metadata": {
        "colab": {
          "base_uri": "https://localhost:8080/"
        },
        "id": "9qU4i5hIb4Mg",
        "outputId": "858d7e43-ef7b-49d7-eb81-6a2c0dbff629"
      },
      "outputs": [
        {
          "output_type": "stream",
          "name": "stdout",
          "text": [
            "Authtoken saved to configuration file: /root/.config/ngrok/ngrok.yml\n"
          ]
        }
      ],
      "source": [
        "!ngrok authtoken 2oy6ThE6Tf1Sp0Mw5cqPqLKri4U_5yMGJddEa9wQrQs1ieQeC"
      ]
    },
    {
      "cell_type": "code",
      "execution_count": 4,
      "metadata": {
        "colab": {
          "base_uri": "https://localhost:8080/"
        },
        "id": "fnNS7RrlWSF_",
        "outputId": "bb0e3a8f-abce-4d11-e34d-9f006ca3e8d4"
      },
      "outputs": [
        {
          "output_type": "stream",
          "name": "stdout",
          "text": [
            "Writing app.py\n"
          ]
        }
      ],
      "source": [
        "%%writefile app.py\n",
        "\n",
        "import os\n",
        "import wandb\n",
        "import sklearn\n",
        "from joblib import load\n",
        "from fastapi import FastAPI, HTTPException\n",
        "from contextlib import asynccontextmanager\n",
        "from pydantic import BaseModel\n",
        "import wandb\n",
        "import joblib\n",
        "import pandas as pd\n",
        "import numpy as np\n",
        "from sklearn.preprocessing import PolynomialFeatures\n",
        "from sklearn.linear_model import LinearRegression\n",
        "import joblib\n",
        "from pyngrok import ngrok\n",
        "\n",
        "app = FastAPI()\n",
        "\n",
        "os.environ[\"WANDB_API_KEY\"] = \"6697a9d4d424fdce3f97021af11508c1941caf7e\"\n",
        "\n",
        "# Define input data schema\n",
        "\n",
        "\n",
        "class PredictionRequest(BaseModel):\n",
        "    song_name: str\n",
        "    song_duration_ms: int\n",
        "    acousticness: float\n",
        "    danceability: float\n",
        "    energy: float\n",
        "    instrumentalness: float\n",
        "    key: int\n",
        "    liveness: float\n",
        "    loudness: float\n",
        "    audio_mode: int\n",
        "    speechiness: float\n",
        "    tempo: float\n",
        "    time_signature: int\n",
        "    audio_valence: float\n",
        "\n",
        "\n",
        "# Load the model from WandB\n",
        "\n",
        "\n",
        "def load_model_from_wandb(project_name: str, artifact_name: str):\n",
        "    try:\n",
        "        # Initialize WandB\n",
        "\n",
        "        run = wandb.init(project=project_name, job_type=\"inference\", reinit=True)\n",
        "        artifact = run.use_artifact(artifact_name)\n",
        "        print(artifact)\n",
        "        model_path = artifact.file()  # Assumes a single model file in the artifact\n",
        "        print(model_path)\n",
        "        model = joblib.load(model_path)\n",
        "        print(model)\n",
        "        run.finish()  # End the WandB run\n",
        "        return model\n",
        "    except Exception as e:\n",
        "        raise RuntimeError(f\"Failed to load model: {e}\")\n",
        "\n",
        "\n",
        "def load_transformer_from_wandb(project_name: str, artifact_name: str):\n",
        "    try:\n",
        "        # Initialize WandB\n",
        "\n",
        "        run = wandb.init(project=project_name, job_type=\"inference\", reinit=True)\n",
        "        artifact = run.use_artifact(artifact_name)\n",
        "        print(artifact)\n",
        "        model_path = artifact.file()  # Assumes a single model file in the artifact\n",
        "        print(model_path)\n",
        "        model = joblib.load(model_path)\n",
        "        print(model)\n",
        "        run.finish()  # End the WandB run\n",
        "        return model\n",
        "    except Exception as e:\n",
        "        raise RuntimeError(f\"Failed to load model: {e}\")\n",
        "\n",
        "\n",
        "project_name = \"MLOPS_SONG_POPULARITY_PREDICTION\"  # Replace with your project name\n",
        "artifact_model_name = \"Model_Song_Popularity:latest\"  # Replace with your artifact name\n",
        "ml_model = load_model_from_wandb(project_name, artifact_model_name)\n",
        "\n",
        "artifact_transformer_name = (\n",
        "    \"Tranformer_Song_Popularity:latest\"  # Replace with your artifact name\n",
        ")\n",
        "poly = load_transformer_from_wandb(project_name, artifact_transformer_name)\n",
        "\n",
        "# Prediction endpoint\n",
        "\n",
        "\n",
        "@app.post(\"/predict\")\n",
        "def predict(input_data: PredictionRequest):\n",
        "    try:\n",
        "        # Convert input data to a dictionary for prediction\n",
        "\n",
        "        input_dict = input_data.dict()\n",
        "\n",
        "        # Specify the columns to be used for prediction\n",
        "\n",
        "        selected_features = [\n",
        "            \"acousticness\",\n",
        "            \"danceability\",\n",
        "            \"energy\",\n",
        "            \"instrumentalness\",\n",
        "            \"liveness\",\n",
        "            \"loudness\",\n",
        "            \"tempo\",\n",
        "            \"audio_valence\",\n",
        "        ]\n",
        "\n",
        "        # Filter the input dictionary to include only selected features\n",
        "\n",
        "        filtered_data = {k: input_dict[k] for k in selected_features}\n",
        "\n",
        "        df = pd.DataFrame(filtered_data, index=[0])\n",
        "\n",
        "        # Apply the same polynomial transformation\n",
        "\n",
        "        transformed_features = poly.transform(df)  # Transform the input data the same\n",
        "\n",
        "        # Call the model's prediction method\n",
        "\n",
        "        prediction = ml_model.predict(transformed_features)\n",
        "\n",
        "        # Return the prediction result\n",
        "\n",
        "        return {\"Estimated Song Popularity\": prediction[0]}\n",
        "    except Exception as e:\n",
        "        raise HTTPException(status_code=500, detail=f\"Prediction error: {e}\")\n"
      ]
    },
    {
      "cell_type": "code",
      "execution_count": 5,
      "metadata": {
        "colab": {
          "base_uri": "https://localhost:8080/"
        },
        "id": "glU5bd26aYV5",
        "outputId": "b7ed8874-ab80-457d-f6c0-4913be90c718"
      },
      "outputs": [
        {
          "output_type": "stream",
          "name": "stdout",
          "text": [
            "nohup: appending output to 'nohup.out'\n"
          ]
        }
      ],
      "source": [
        "!nohup uvicorn app:app --host 0.0.0.0 --port 8000 &"
      ]
    },
    {
      "cell_type": "code",
      "execution_count": 6,
      "metadata": {
        "colab": {
          "base_uri": "https://localhost:8080/"
        },
        "id": "8rh7GRcBc3MJ",
        "outputId": "539f5003-a0f8-4f89-d212-aec48bdb71a8"
      },
      "outputs": [
        {
          "output_type": "stream",
          "name": "stdout",
          "text": [
            "   1332 ?        Dl     0:04 /usr/bin/python3 /usr/local/bin/uvicorn app:app --host 0.0.0.0 --port 8\n",
            "   1361 ?        S      0:00 /bin/bash -c ps -ax | grep uvicorn\n",
            "   1363 ?        S      0:00 grep uvicorn\n"
          ]
        }
      ],
      "source": [
        "!ps -ax | grep uvicorn"
      ]
    },
    {
      "cell_type": "code",
      "source": [
        "!tail nohup.out"
      ],
      "metadata": {
        "colab": {
          "base_uri": "https://localhost:8080/"
        },
        "id": "uMhnXQcAaQ2y",
        "outputId": "da85962c-3132-4b9a-c95e-7c205f52d938"
      },
      "execution_count": 7,
      "outputs": [
        {
          "output_type": "stream",
          "name": "stdout",
          "text": [
            "wandb: 🚀 View run prime-gorge-215 at: https://wandb.ai/anmol_chhabra_ampba2025s-indian-school-of-business/MLOPS_SONG_POPULARITY_PREDICTION/runs/0b4fxut9\n",
            "wandb: ⭐️ View project at: https://wandb.ai/anmol_chhabra_ampba2025s-indian-school-of-business/MLOPS_SONG_POPULARITY_PREDICTION\n",
            "wandb: Synced 5 W&B file(s), 0 media file(s), 0 artifact file(s) and 0 other file(s)\n",
            "wandb: Find logs at: ./wandb/run-20241215_142043-0b4fxut9/logs\n",
            "wandb: Tracking run with wandb version 0.18.7\n",
            "wandb: Run data is saved locally in /content/wandb/run-20241215_142047-9popv6an\n",
            "wandb: Run `wandb offline` to turn off syncing.\n",
            "wandb: Syncing run unique-sunset-216\n",
            "wandb: ⭐️ View project at https://wandb.ai/anmol_chhabra_ampba2025s-indian-school-of-business/MLOPS_SONG_POPULARITY_PREDICTION\n",
            "wandb: 🚀 View run at https://wandb.ai/anmol_chhabra_ampba2025s-indian-school-of-business/MLOPS_SONG_POPULARITY_PREDICTION/runs/9popv6an\n"
          ]
        }
      ]
    },
    {
      "cell_type": "code",
      "execution_count": 8,
      "metadata": {
        "colab": {
          "base_uri": "https://localhost:8080/"
        },
        "id": "ohn4FCv0cZ3m",
        "outputId": "01709ff6-c50c-4761-a754-26792b497cd4"
      },
      "outputs": [
        {
          "output_type": "stream",
          "name": "stdout",
          "text": [
            "Public URL: NgrokTunnel: \"https://10d0-35-245-92-199.ngrok-free.app\" -> \"http://localhost:8000\"\n"
          ]
        }
      ],
      "source": [
        "# Expose the FastAPI app\n",
        "\n",
        "public_url = ngrok.connect(8000)\n",
        "print(f\"Public URL: {public_url}\")"
      ]
    },
    {
      "cell_type": "markdown",
      "source": [
        "Invoking the Prediction Service"
      ],
      "metadata": {
        "id": "bl6teGLJW5jf"
      }
    },
    {
      "cell_type": "code",
      "source": [
        "import requests, json"
      ],
      "metadata": {
        "id": "oU6VqzK-W-bs"
      },
      "execution_count": 9,
      "outputs": []
    },
    {
      "cell_type": "code",
      "source": [
        "data = \"\"\"{ \"song_name\":\"Boulevard of Broken Dreams\",\n",
        "            \"song_duration_ms\":262333,\n",
        "            \"acousticness\":0.00552,\n",
        "            \"danceability\":0.496,\n",
        "            \"energy\":0.682,\n",
        "            \"instrumentalness\":0.0000294,\n",
        "            \"key\":8,\n",
        "            \"liveness\":0.0589,\n",
        "            \"loudness\":-4.095,\n",
        "            \"audio_mode\":1,\n",
        "            \"speechiness\":0.0294,\n",
        "            \"tempo\":167.06,\n",
        "            \"time_signature\":4,\n",
        "            \"audio_valence\":0.474\n",
        "          }\n",
        "         \"\"\""
      ],
      "metadata": {
        "id": "Er14DNN3XA0O"
      },
      "execution_count": 10,
      "outputs": []
    },
    {
      "cell_type": "code",
      "source": [
        "json_data = data.replace('\\n', '').replace(' ','')"
      ],
      "metadata": {
        "id": "KZ3XoGsTYX-l"
      },
      "execution_count": 11,
      "outputs": []
    },
    {
      "cell_type": "code",
      "source": [
        "json_data"
      ],
      "metadata": {
        "colab": {
          "base_uri": "https://localhost:8080/",
          "height": 53
        },
        "id": "s2ccouLMYdBf",
        "outputId": "e6d3fdd1-cfc6-41b3-e436-fae3d23a29e5"
      },
      "execution_count": 12,
      "outputs": [
        {
          "output_type": "execute_result",
          "data": {
            "text/plain": [
              "'{\"song_name\":\"BoulevardofBrokenDreams\",\"song_duration_ms\":262333,\"acousticness\":0.00552,\"danceability\":0.496,\"energy\":0.682,\"instrumentalness\":0.0000294,\"key\":8,\"liveness\":0.0589,\"loudness\":-4.095,\"audio_mode\":1,\"speechiness\":0.0294,\"tempo\":167.06,\"time_signature\":4,\"audio_valence\":0.474}'"
            ],
            "application/vnd.google.colaboratory.intrinsic+json": {
              "type": "string"
            }
          },
          "metadata": {},
          "execution_count": 12
        }
      ]
    },
    {
      "cell_type": "code",
      "source": [
        "response = requests.post('https://10d0-35-245-92-199.ngrok-free.app/predict', data=json_data)"
      ],
      "metadata": {
        "id": "nEnSYLI4YeCE"
      },
      "execution_count": 14,
      "outputs": []
    },
    {
      "cell_type": "code",
      "source": [
        "print(response.json())"
      ],
      "metadata": {
        "colab": {
          "base_uri": "https://localhost:8080/"
        },
        "id": "kpRVjo6CYlr0",
        "outputId": "24a591c1-9960-4d0b-999a-5926d541cc3d"
      },
      "execution_count": 15,
      "outputs": [
        {
          "output_type": "stream",
          "name": "stdout",
          "text": [
            "{'Estimated Song Popularity': 50.90268283212074}\n"
          ]
        }
      ]
    }
  ],
  "metadata": {
    "colab": {
      "provenance": []
    },
    "kernelspec": {
      "display_name": "Python 3 (ipykernel)",
      "language": "python",
      "name": "python3"
    },
    "language_info": {
      "codemirror_mode": {
        "name": "ipython",
        "version": 3
      },
      "file_extension": ".py",
      "mimetype": "text/x-python",
      "name": "python",
      "nbconvert_exporter": "python",
      "pygments_lexer": "ipython3",
      "version": "3.12.4"
    }
  },
  "nbformat": 4,
  "nbformat_minor": 0
}