{
  "cells": [
    {
      "cell_type": "code",
      "execution_count": null,
      "metadata": {
        "colab": {
          "base_uri": "https://localhost:8080/"
        },
        "id": "srr7J8foy1LW",
        "outputId": "df3f704b-ef72-4ec0-d537-4920b43a762f",
        "collapsed": true
      },
      "outputs": [
        {
          "output_type": "stream",
          "name": "stdout",
          "text": [
            "Collecting streamlit\n",
            "  Downloading streamlit-1.41.1-py2.py3-none-any.whl.metadata (8.5 kB)\n",
            "Requirement already satisfied: altair<6,>=4.0 in /usr/local/lib/python3.10/dist-packages (from streamlit) (5.5.0)\n",
            "Requirement already satisfied: blinker<2,>=1.0.0 in /usr/local/lib/python3.10/dist-packages (from streamlit) (1.9.0)\n",
            "Requirement already satisfied: cachetools<6,>=4.0 in /usr/local/lib/python3.10/dist-packages (from streamlit) (5.5.0)\n",
            "Requirement already satisfied: click<9,>=7.0 in /usr/local/lib/python3.10/dist-packages (from streamlit) (8.1.7)\n",
            "Requirement already satisfied: numpy<3,>=1.23 in /usr/local/lib/python3.10/dist-packages (from streamlit) (1.26.4)\n",
            "Requirement already satisfied: packaging<25,>=20 in /usr/local/lib/python3.10/dist-packages (from streamlit) (24.2)\n",
            "Requirement already satisfied: pandas<3,>=1.4.0 in /usr/local/lib/python3.10/dist-packages (from streamlit) (2.2.2)\n",
            "Requirement already satisfied: pillow<12,>=7.1.0 in /usr/local/lib/python3.10/dist-packages (from streamlit) (11.0.0)\n",
            "Requirement already satisfied: protobuf<6,>=3.20 in /usr/local/lib/python3.10/dist-packages (from streamlit) (4.25.5)\n",
            "Requirement already satisfied: pyarrow>=7.0 in /usr/local/lib/python3.10/dist-packages (from streamlit) (17.0.0)\n",
            "Requirement already satisfied: requests<3,>=2.27 in /usr/local/lib/python3.10/dist-packages (from streamlit) (2.32.3)\n",
            "Requirement already satisfied: rich<14,>=10.14.0 in /usr/local/lib/python3.10/dist-packages (from streamlit) (13.9.4)\n",
            "Requirement already satisfied: tenacity<10,>=8.1.0 in /usr/local/lib/python3.10/dist-packages (from streamlit) (9.0.0)\n",
            "Requirement already satisfied: toml<2,>=0.10.1 in /usr/local/lib/python3.10/dist-packages (from streamlit) (0.10.2)\n",
            "Requirement already satisfied: typing-extensions<5,>=4.3.0 in /usr/local/lib/python3.10/dist-packages (from streamlit) (4.12.2)\n",
            "Collecting watchdog<7,>=2.1.5 (from streamlit)\n",
            "  Downloading watchdog-6.0.0-py3-none-manylinux2014_x86_64.whl.metadata (44 kB)\n",
            "\u001b[2K     \u001b[90m━━━━━━━━━━━━━━━━━━━━━━━━━━━━━━━━━━━━━━━━\u001b[0m \u001b[32m44.3/44.3 kB\u001b[0m \u001b[31m2.4 MB/s\u001b[0m eta \u001b[36m0:00:00\u001b[0m\n",
            "\u001b[?25hRequirement already satisfied: gitpython!=3.1.19,<4,>=3.0.7 in /usr/local/lib/python3.10/dist-packages (from streamlit) (3.1.43)\n",
            "Collecting pydeck<1,>=0.8.0b4 (from streamlit)\n",
            "  Downloading pydeck-0.9.1-py2.py3-none-any.whl.metadata (4.1 kB)\n",
            "Requirement already satisfied: tornado<7,>=6.0.3 in /usr/local/lib/python3.10/dist-packages (from streamlit) (6.3.3)\n",
            "Requirement already satisfied: jinja2 in /usr/local/lib/python3.10/dist-packages (from altair<6,>=4.0->streamlit) (3.1.4)\n",
            "Requirement already satisfied: jsonschema>=3.0 in /usr/local/lib/python3.10/dist-packages (from altair<6,>=4.0->streamlit) (4.23.0)\n",
            "Requirement already satisfied: narwhals>=1.14.2 in /usr/local/lib/python3.10/dist-packages (from altair<6,>=4.0->streamlit) (1.17.0)\n",
            "Requirement already satisfied: gitdb<5,>=4.0.1 in /usr/local/lib/python3.10/dist-packages (from gitpython!=3.1.19,<4,>=3.0.7->streamlit) (4.0.11)\n",
            "Requirement already satisfied: python-dateutil>=2.8.2 in /usr/local/lib/python3.10/dist-packages (from pandas<3,>=1.4.0->streamlit) (2.8.2)\n",
            "Requirement already satisfied: pytz>=2020.1 in /usr/local/lib/python3.10/dist-packages (from pandas<3,>=1.4.0->streamlit) (2024.2)\n",
            "Requirement already satisfied: tzdata>=2022.7 in /usr/local/lib/python3.10/dist-packages (from pandas<3,>=1.4.0->streamlit) (2024.2)\n",
            "Requirement already satisfied: charset-normalizer<4,>=2 in /usr/local/lib/python3.10/dist-packages (from requests<3,>=2.27->streamlit) (3.4.0)\n",
            "Requirement already satisfied: idna<4,>=2.5 in /usr/local/lib/python3.10/dist-packages (from requests<3,>=2.27->streamlit) (3.10)\n",
            "Requirement already satisfied: urllib3<3,>=1.21.1 in /usr/local/lib/python3.10/dist-packages (from requests<3,>=2.27->streamlit) (2.2.3)\n",
            "Requirement already satisfied: certifi>=2017.4.17 in /usr/local/lib/python3.10/dist-packages (from requests<3,>=2.27->streamlit) (2024.8.30)\n",
            "Requirement already satisfied: markdown-it-py>=2.2.0 in /usr/local/lib/python3.10/dist-packages (from rich<14,>=10.14.0->streamlit) (3.0.0)\n",
            "Requirement already satisfied: pygments<3.0.0,>=2.13.0 in /usr/local/lib/python3.10/dist-packages (from rich<14,>=10.14.0->streamlit) (2.18.0)\n",
            "Requirement already satisfied: smmap<6,>=3.0.1 in /usr/local/lib/python3.10/dist-packages (from gitdb<5,>=4.0.1->gitpython!=3.1.19,<4,>=3.0.7->streamlit) (5.0.1)\n",
            "Requirement already satisfied: MarkupSafe>=2.0 in /usr/local/lib/python3.10/dist-packages (from jinja2->altair<6,>=4.0->streamlit) (3.0.2)\n",
            "Requirement already satisfied: attrs>=22.2.0 in /usr/local/lib/python3.10/dist-packages (from jsonschema>=3.0->altair<6,>=4.0->streamlit) (24.2.0)\n",
            "Requirement already satisfied: jsonschema-specifications>=2023.03.6 in /usr/local/lib/python3.10/dist-packages (from jsonschema>=3.0->altair<6,>=4.0->streamlit) (2024.10.1)\n",
            "Requirement already satisfied: referencing>=0.28.4 in /usr/local/lib/python3.10/dist-packages (from jsonschema>=3.0->altair<6,>=4.0->streamlit) (0.35.1)\n",
            "Requirement already satisfied: rpds-py>=0.7.1 in /usr/local/lib/python3.10/dist-packages (from jsonschema>=3.0->altair<6,>=4.0->streamlit) (0.22.3)\n",
            "Requirement already satisfied: mdurl~=0.1 in /usr/local/lib/python3.10/dist-packages (from markdown-it-py>=2.2.0->rich<14,>=10.14.0->streamlit) (0.1.2)\n",
            "Requirement already satisfied: six>=1.5 in /usr/local/lib/python3.10/dist-packages (from python-dateutil>=2.8.2->pandas<3,>=1.4.0->streamlit) (1.17.0)\n",
            "Downloading streamlit-1.41.1-py2.py3-none-any.whl (9.1 MB)\n",
            "\u001b[2K   \u001b[90m━━━━━━━━━━━━━━━━━━━━━━━━━━━━━━━━━━━━━━━━\u001b[0m \u001b[32m9.1/9.1 MB\u001b[0m \u001b[31m45.8 MB/s\u001b[0m eta \u001b[36m0:00:00\u001b[0m\n",
            "\u001b[?25hDownloading pydeck-0.9.1-py2.py3-none-any.whl (6.9 MB)\n",
            "\u001b[2K   \u001b[90m━━━━━━━━━━━━━━━━━━━━━━━━━━━━━━━━━━━━━━━━\u001b[0m \u001b[32m6.9/6.9 MB\u001b[0m \u001b[31m43.5 MB/s\u001b[0m eta \u001b[36m0:00:00\u001b[0m\n",
            "\u001b[?25hDownloading watchdog-6.0.0-py3-none-manylinux2014_x86_64.whl (79 kB)\n",
            "\u001b[2K   \u001b[90m━━━━━━━━━━━━━━━━━━━━━━━━━━━━━━━━━━━━━━━━\u001b[0m \u001b[32m79.1/79.1 kB\u001b[0m \u001b[31m5.5 MB/s\u001b[0m eta \u001b[36m0:00:00\u001b[0m\n",
            "\u001b[?25hInstalling collected packages: watchdog, pydeck, streamlit\n",
            "Successfully installed pydeck-0.9.1 streamlit-1.41.1 watchdog-6.0.0\n"
          ]
        }
      ],
      "source": [
        "!pip install streamlit fastapi uvicorn wandb pyngrok"
      ]
    },
    {
      "cell_type": "markdown",
      "metadata": {
        "id": "bruYG5cSuRqR",
        "jp-MarkdownHeadingCollapsed": true
      },
      "source": [
        "## Creating the App"
      ]
    },
    {
      "cell_type": "markdown",
      "metadata": {
        "id": "CrCcp6gDy1LY"
      },
      "source": [
        "## Run the UI"
      ]
    },
    {
      "cell_type": "code",
      "execution_count": 25,
      "metadata": {
        "colab": {
          "base_uri": "https://localhost:8080/"
        },
        "id": "TOIPtgxNy1LY",
        "outputId": "a90edc35-f7af-479f-96a8-0c191d63e638"
      },
      "outputs": [
        {
          "output_type": "stream",
          "name": "stdout",
          "text": [
            "Overwriting app.py\n"
          ]
        }
      ],
      "source": [
        "%%writefile app.py\n",
        "\n",
        "import streamlit as st\n",
        "import pandas as pd\n",
        "import numpy as np\n",
        "from joblib import load\n",
        "import os\n",
        "import wandb\n",
        "import sklearn\n",
        "from joblib import load\n",
        "from fastapi import FastAPI, HTTPException\n",
        "from contextlib import asynccontextmanager\n",
        "from pydantic import BaseModel\n",
        "import wandb\n",
        "import joblib\n",
        "import pandas as pd\n",
        "import numpy as np\n",
        "from sklearn.preprocessing import PolynomialFeatures\n",
        "from sklearn.linear_model import LinearRegression\n",
        "import joblib\n",
        "\n",
        "app = FastAPI()\n",
        "os.environ[\"WANDB_API_KEY\"] = \"6697a9d4d424fdce3f97021af11508c1941caf7e\"\n",
        "\n",
        "# Define input data schema\n",
        "\n",
        "\n",
        "class PredictionRequest(BaseModel):\n",
        "    song_name: str\n",
        "    song_duration_ms: int\n",
        "    acousticness: float\n",
        "    danceability: float\n",
        "    energy: float\n",
        "    instrumentalness: float\n",
        "    key: int\n",
        "    liveness: float\n",
        "    loudness: float\n",
        "    audio_mode: int\n",
        "    speechiness: float\n",
        "    tempo: float\n",
        "    time_signature: int\n",
        "    audio_valence: float\n",
        "\n",
        "\n",
        "# Load the model from WandB\n",
        "\n",
        "\n",
        "def load_model_from_wandb(project_name: str, artifact_name: str):\n",
        "    try:\n",
        "        # Initialize WandB\n",
        "\n",
        "        run = wandb.init(project=project_name, job_type=\"inference\", reinit=True)\n",
        "        artifact = run.use_artifact(artifact_name)\n",
        "        print(artifact)\n",
        "        model_path = artifact.file()  # Assumes a single model file in the artifact\n",
        "        print(model_path)\n",
        "        model = joblib.load(model_path)\n",
        "        print(model)\n",
        "        run.finish()  # End the WandB run\n",
        "        return model\n",
        "    except Exception as e:\n",
        "        raise RuntimeError(f\"Failed to load model: {e}\")\n",
        "\n",
        "\n",
        "def load_transformer_from_wandb(project_name: str, artifact_name: str):\n",
        "    try:\n",
        "        # Initialize WandB\n",
        "\n",
        "        run = wandb.init(project=project_name, job_type=\"inference\", reinit=True)\n",
        "        artifact = run.use_artifact(artifact_name)\n",
        "        print(artifact)\n",
        "        model_path = artifact.file()  # Assumes a single model file in the artifact\n",
        "        print(model_path)\n",
        "        model = joblib.load(model_path)\n",
        "        print(model)\n",
        "        run.finish()  # End the WandB run\n",
        "        return model\n",
        "    except Exception as e:\n",
        "        raise RuntimeError(f\"Failed to load model: {e}\")\n",
        "\n",
        "\n",
        "def predict_popularity(\n",
        "    acousticness,\n",
        "    danceability,\n",
        "    energy,\n",
        "    instrumentalness,\n",
        "    liveness,\n",
        "    loudness,\n",
        "    tempo,\n",
        "    audio_valence,\n",
        "):\n",
        "    # Prepare the input data as a DataFrame\n",
        "\n",
        "    inputs_dict = {\n",
        "        \"acousticness\": float(acousticness),\n",
        "        \"danceability\": float(danceability),\n",
        "        \"energy\": float(energy),\n",
        "        \"instrumentalness\": float(instrumentalness),\n",
        "        \"liveness\": float(liveness),\n",
        "        \"loudness\": float(loudness),\n",
        "        \"tempo\": float(tempo),\n",
        "        \"audio_valence\": int(audio_valence),\n",
        "    }\n",
        "\n",
        "    project_name = \"MLOPS_SONG_POPULARITY_PREDICTION\"  # Replace with your project name\n",
        "    artifact_model_name = (\n",
        "        \"Model_Song_Popularity:latest\"  # Replace with your artifact name\n",
        "    )\n",
        "    ml_model = load_model_from_wandb(project_name, artifact_model_name)\n",
        "\n",
        "    artifact_transformer_name = (\n",
        "        \"Tranformer_Song_Popularity:latest\"  # Replace with your artifact name\n",
        "    )\n",
        "    poly = load_transformer_from_wandb(project_name, artifact_transformer_name)\n",
        "\n",
        "    df = pd.DataFrame(inputs_dict, index=[0])\n",
        "    # Apply the same polynomial transformation\n",
        "\n",
        "    transformed_features = poly.transform(df)  # Transform the input data the same\n",
        "\n",
        "    # Call the model's prediction method\n",
        "\n",
        "    prediction = ml_model.predict(transformed_features)\n",
        "\n",
        "    # Return the prediction result\n",
        "\n",
        "    return {prediction[0]}\n",
        "\n",
        "\n",
        "# Function to define the app layout\n",
        "\n",
        "\n",
        "def app_layout():\n",
        "    st.title(\"Song Popularity Prediction\")\n",
        "    st.header(\n",
        "        \"Enter acousticness, danceability, energy, instrumentalness, liveness, loudness, tempo, audio_valence\"\n",
        "    )\n",
        "\n",
        "    # Input fields for the features\n",
        "\n",
        "    acousticness = st.number_input(\n",
        "        \"Acousticness:\", min_value=1.02e-6, max_value=0.996, value=0.5\n",
        "    )\n",
        "    danceability = st.number_input(\n",
        "        \"Danceability:\", min_value=0.0, max_value=0.987, value=0.49\n",
        "    )\n",
        "    energy = st.number_input(\"Energy:\", min_value=0.00107, max_value=0.999, value=0.55)\n",
        "    instrumentalness = st.number_input(\n",
        "        \"Instrumentalness:\", min_value=0.0, max_value=0.997, value=0.1\n",
        "    )\n",
        "    liveness = st.number_input(\n",
        "        \"Liveness:\", min_value=0.0109, max_value=0.986, value=0.5\n",
        "    )\n",
        "    loudness = st.number_input(\n",
        "        \"Loudness (dB):\", min_value=-38.768, max_value=1.585, value=-15.0\n",
        "    )\n",
        "    tempo = st.number_input(\"Tempo:\", min_value=0.0, max_value=242.318, value=120.0)\n",
        "    audio_valence = st.number_input(\n",
        "        \"Audio Valence (0-1):\", min_value=0.0, max_value=0.984, value=0.5\n",
        "    )\n",
        "\n",
        "    # Predict button\n",
        "\n",
        "    if st.button(\"Predict Output\"):\n",
        "        prediction = predict_popularity(\n",
        "            acousticness,\n",
        "            danceability,\n",
        "            energy,\n",
        "            instrumentalness,\n",
        "            liveness,\n",
        "            loudness,\n",
        "            tempo,\n",
        "            audio_valence,\n",
        "        )\n",
        "        st.success(f\"The predicted popularity value is: {prediction}\")\n",
        "\n",
        "\n",
        "if __name__ == \"__main__\":\n",
        "    app_layout()\n"
      ]
    },
    {
      "cell_type": "code",
      "execution_count": 15,
      "metadata": {
        "colab": {
          "base_uri": "https://localhost:8080/"
        },
        "id": "OUClfy6wy1LZ",
        "outputId": "bb0f151d-3495-4133-b88c-6aeb0b1fef12"
      },
      "outputs": [
        {
          "output_type": "stream",
          "name": "stdout",
          "text": [
            "\n",
            "Collecting usage statistics. To deactivate, set browser.gatherUsageStats to false.\n",
            "\u001b[0m\n",
            "\u001b[0m\n",
            "\u001b[34m\u001b[1m  You can now view your Streamlit app in your browser.\u001b[0m\n",
            "\u001b[0m\n",
            "\u001b[34m  Local URL: \u001b[0m\u001b[1mhttp://localhost:8501\u001b[0m\n",
            "\u001b[34m  Network URL: \u001b[0m\u001b[1mhttp://172.28.0.12:8501\u001b[0m\n",
            "\u001b[34m  External URL: \u001b[0m\u001b[1mhttp://34.168.251.39:8501\u001b[0m\n",
            "\u001b[0m\n",
            "\u001b[34m  Stopping...\u001b[0m\n",
            "\u001b[34m  Stopping...\u001b[0m\n"
          ]
        }
      ],
      "source": [
        "!streamlit run app.py"
      ]
    },
    {
      "cell_type": "code",
      "source": [],
      "metadata": {
        "id": "beYZVNRW5Jtp"
      },
      "execution_count": null,
      "outputs": []
    }
  ],
  "metadata": {
    "colab": {
      "provenance": []
    },
    "kernelspec": {
      "display_name": "Python 3 (ipykernel)",
      "language": "python",
      "name": "python3"
    },
    "language_info": {
      "codemirror_mode": {
        "name": "ipython",
        "version": 3
      },
      "file_extension": ".py",
      "mimetype": "text/x-python",
      "name": "python",
      "nbconvert_exporter": "python",
      "pygments_lexer": "ipython3",
      "version": "3.12.3"
    }
  },
  "nbformat": 4,
  "nbformat_minor": 0
}